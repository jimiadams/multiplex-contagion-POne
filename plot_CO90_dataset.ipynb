{
 "cells": [
  {
   "cell_type": "code",
   "execution_count": null,
   "metadata": {},
   "outputs": [],
   "source": [
    "import numpy as np\n",
    "import matplotlib.pyplot as plt\n",
    "import networkx as nx\n",
    "import shelve\n",
    "import os\n",
    "import plot_utilities\n",
    "\n",
    "%matplotlib inline"
   ]
  },
  {
   "cell_type": "code",
   "execution_count": null,
   "metadata": {},
   "outputs": [],
   "source": [
    "dataFolder = \"Data\"\n",
    "datasetFolder = \"CO90\"\n",
    "filename = \"CO90_data_gc\"\n",
    "fullFilePath = os.path.join(dataFolder, datasetFolder, filename)\n",
    "\n",
    "network1Key = \"sex-network\"\n",
    "network2Key = \"drug-network\"\n",
    "combinedNetworkKey = \"combined-network\"\n",
    "\n",
    "with shelve.open(fullFilePath) as data:\n",
    "    network1 = data[network1Key]\n",
    "    network2 = data[network2Key]\n",
    "    combined_network = data[combinedNetworkKey]\n",
    "networks = [network1, network2]\n",
    "\n",
    "try:\n",
    "    with shelve.open(\"pos\") as data:\n",
    "        pos = data[\"CO90\"]\n",
    "except:\n",
    "    np.random.seed(1)\n",
    "    pos = nx.spring_layout(combined_network)\n",
    "    with shelve.open(\"pos\") as data:\n",
    "        data[\"CO90\"] = pos"
   ]
  },
  {
   "cell_type": "code",
   "execution_count": null,
   "metadata": {},
   "outputs": [],
   "source": [
    "gc_colors = [\"steelblue\", \"firebrick\"]\n",
    "iso_colors = [\"lightblue\", \"mistyrose\"]\n",
    "edge_colors = [\"steelblue\", \"firebrick\"]\n",
    "edge_colors = [\"black\", \"black\"]\n",
    "plane_colors = [\"grey\", \"grey\"]\n",
    "labels = [\"sex\", \"drugs\"]\n",
    "\n",
    "fig = plt.figure(figsize=(8, 6), dpi=200)\n",
    "ax = fig.add_subplot(1, 1, 1, projection=\"3d\")\n",
    "plot_utilities.plot_multiplex_network(\n",
    "    ax,\n",
    "    networks,\n",
    "    pos,\n",
    "    gc_colors,\n",
    "    iso_colors,\n",
    "    edge_colors,\n",
    "    plane_colors,\n",
    "    labels,\n",
    "    node_size=2,\n",
    "    edge_width=0.5,\n",
    "    width=8,\n",
    "    height=6,\n",
    "    label_pos=1.1,\n",
    ")\n",
    "plt.savefig(\"Figures/multilayer_network_CO90.pdf\", dpi=1000, bbox_inches=\"tight\")\n",
    "plt.savefig(\"Figures/multilayer_network_CO90.png\", dpi=1000, bbox_inches=\"tight\")\n",
    "plt.show()"
   ]
  }
 ],
 "metadata": {
  "kernelspec": {
   "display_name": "Python 3.10.5 64-bit",
   "language": "python",
   "name": "python3"
  },
  "language_info": {
   "codemirror_mode": {
    "name": "ipython",
    "version": 3
   },
   "file_extension": ".py",
   "mimetype": "text/x-python",
   "name": "python",
   "nbconvert_exporter": "python",
   "pygments_lexer": "ipython3",
   "version": "3.10.5"
  },
  "vscode": {
   "interpreter": {
    "hash": "88880b30d22c3e82d444bc5a40c679bbf2837a658927a3eed0b1fab0c002b813"
   }
  }
 },
 "nbformat": 4,
 "nbformat_minor": 4
}
